{
  "nbformat": 4,
  "nbformat_minor": 0,
  "metadata": {
    "colab": {
      "name": "01_HelloPython.ipynb",
      "version": "0.3.2",
      "provenance": [],
      "collapsed_sections": [],
      "include_colab_link": true
    },
    "kernelspec": {
      "display_name": "Python 2",
      "language": "python",
      "name": "python2"
    }
  },
  "cells": [
    {
      "cell_type": "markdown",
      "metadata": {
        "id": "view-in-github",
        "colab_type": "text"
      },
      "source": [
        "<a href=\"https://colab.research.google.com/github/PowerSH/AI_Course/blob/master/01_HelloPython.ipynb\" target=\"_parent\"><img src=\"https://colab.research.google.com/assets/colab-badge.svg\" alt=\"Open In Colab\"/></a>"
      ]
    },
    {
      "cell_type": "markdown",
      "metadata": {
        "id": "qSC-8i-maMLO",
        "colab_type": "text"
      },
      "source": [
        "# Python tutorial #1"
      ]
    },
    {
      "cell_type": "markdown",
      "metadata": {
        "id": "dgdllkThaMLP",
        "colab_type": "text"
      },
      "source": [
        "This page was created for students to learn Python in the AI class (717005) at Hanlim University."
      ]
    },
    {
      "cell_type": "markdown",
      "metadata": {
        "id": "mxo8IrkwaMLQ",
        "colab_type": "text"
      },
      "source": [
        "## Basic data types"
      ]
    },
    {
      "cell_type": "code",
      "metadata": {
        "id": "ojl5s_pPaMLR",
        "colab_type": "code",
        "outputId": "f433e878-b6de-4305-ddfd-58d255b095a1",
        "colab": {
          "base_uri": "https://localhost:8080/",
          "height": 161
        }
      },
      "source": [
        "x = 3\n",
        "print(type(x)) # Prints \"<class 'int'>\"\n",
        "print(x)       # Prints \"3\"\n",
        "print(x + 1)   # Addition; prints \"4\"\n",
        "print(x - 1)   # Subtraction; prints \"2\"\n",
        "print(x * 2)   # Multiplication; prints \"6\"\n",
        "print(x ** 2)  # Exponentiation; prints \"9\"\n",
        "x += 1\n",
        "print(x)  # Prints \"4\"\n",
        "x *= 2\n",
        "print(x)  # Prints \"8\""
      ],
      "execution_count": 0,
      "outputs": [
        {
          "output_type": "stream",
          "text": [
            "<type 'int'>\n",
            "3\n",
            "4\n",
            "2\n",
            "6\n",
            "9\n",
            "4\n",
            "8\n"
          ],
          "name": "stdout"
        }
      ]
    },
    {
      "cell_type": "code",
      "metadata": {
        "id": "LJi4OGnmbRi2",
        "colab_type": "code",
        "outputId": "a791a275-18b2-4753-c40e-13cbcce05f1e",
        "colab": {
          "base_uri": "https://localhost:8080/",
          "height": 53
        }
      },
      "source": [
        "y = 2.5\n",
        "print(type(y)) # Prints \"<class 'float'>\"\n",
        "print(y, y + 1, y * 2, y ** 2) # Prints \"2.5 3.5 5.0 6.25\""
      ],
      "execution_count": 0,
      "outputs": [
        {
          "output_type": "stream",
          "text": [
            "<type 'float'>\n",
            "(2.5, 3.5, 5.0, 6.25)\n"
          ],
          "name": "stdout"
        }
      ]
    },
    {
      "cell_type": "markdown",
      "metadata": {
        "id": "BZz_Be6cb3q2",
        "colab_type": "text"
      },
      "source": [
        "## String"
      ]
    },
    {
      "cell_type": "code",
      "metadata": {
        "id": "sI6ozFj8b306",
        "colab_type": "code",
        "outputId": "0d20374c-2d6f-4449-91ea-16ba7c9597c4",
        "colab": {
          "base_uri": "https://localhost:8080/",
          "height": 35
        }
      },
      "source": [
        "name = 'Bob'\n",
        "print('Hello, {}'.format(name))"
      ],
      "execution_count": 0,
      "outputs": [
        {
          "output_type": "stream",
          "text": [
            "Hello, Bob\n"
          ],
          "name": "stdout"
        }
      ]
    },
    {
      "cell_type": "markdown",
      "metadata": {
        "id": "e83IVnQ6aMLU",
        "colab_type": "text"
      },
      "source": [
        "## For statement"
      ]
    },
    {
      "cell_type": "markdown",
      "metadata": {
        "id": "c6p7jOCsaMLV",
        "colab_type": "text"
      },
      "source": [
        "range"
      ]
    },
    {
      "cell_type": "code",
      "metadata": {
        "id": "tPvcPEz9aMLW",
        "colab_type": "code",
        "outputId": "803e58fc-08ed-4f08-d4ca-3285dbf6dd92",
        "colab": {
          "base_uri": "https://localhost:8080/",
          "height": 35
        }
      },
      "source": [
        "A = range(5)\n",
        "print(A)"
      ],
      "execution_count": 0,
      "outputs": [
        {
          "output_type": "stream",
          "text": [
            "[0, 1, 2, 3, 4]\n"
          ],
          "name": "stdout"
        }
      ]
    },
    {
      "cell_type": "code",
      "metadata": {
        "id": "qngukUgBbIu8",
        "colab_type": "code",
        "outputId": "e3560edb-c02a-4dda-e1ad-c8fe40bf660a",
        "colab": {
          "base_uri": "https://localhost:8080/",
          "height": 35
        }
      },
      "source": [
        "print(A[2])"
      ],
      "execution_count": 0,
      "outputs": [
        {
          "output_type": "stream",
          "text": [
            "2\n"
          ],
          "name": "stdout"
        }
      ]
    },
    {
      "cell_type": "code",
      "metadata": {
        "id": "dZnUiBlPaMLY",
        "colab_type": "code",
        "outputId": "3a23bdb4-8cde-40c2-e867-60c7dd40c55f",
        "colab": {
          "base_uri": "https://localhost:8080/",
          "height": 107
        }
      },
      "source": [
        "for i in range(5):\n",
        "    print(i, A[i])"
      ],
      "execution_count": 0,
      "outputs": [
        {
          "output_type": "stream",
          "text": [
            "(0, 0)\n",
            "(1, 1)\n",
            "(2, 2)\n",
            "(3, 3)\n",
            "(4, 4)\n"
          ],
          "name": "stdout"
        }
      ]
    },
    {
      "cell_type": "code",
      "metadata": {
        "id": "GE_XLBeTbWyR",
        "colab_type": "code",
        "outputId": "68307532-4aaa-4903-973f-7e3036396c58",
        "colab": {
          "base_uri": "https://localhost:8080/",
          "height": 125
        }
      },
      "source": [
        "for i in range(3):\n",
        "  for j in range(2):\n",
        "    print('{} + {} = {}'.format(i, j, i+j))"
      ],
      "execution_count": 0,
      "outputs": [
        {
          "output_type": "stream",
          "text": [
            "0 + 0 = 0\n",
            "0 + 1 = 1\n",
            "1 + 0 = 1\n",
            "1 + 1 = 2\n",
            "2 + 0 = 2\n",
            "2 + 1 = 3\n"
          ],
          "name": "stdout"
        }
      ]
    },
    {
      "cell_type": "markdown",
      "metadata": {
        "id": "Z3WiqLfibXjT",
        "colab_type": "text"
      },
      "source": [
        "HW : Implement the multiplication table (구구단)"
      ]
    },
    {
      "cell_type": "markdown",
      "metadata": {
        "id": "hQuiC7-KaMLa",
        "colab_type": "text"
      },
      "source": [
        "## Operators"
      ]
    },
    {
      "cell_type": "markdown",
      "metadata": {
        "id": "UHccoIyzaMLc",
        "colab_type": "text"
      },
      "source": [
        "### + operator"
      ]
    },
    {
      "cell_type": "code",
      "metadata": {
        "id": "MWkrKBx6aMLc",
        "colab_type": "code",
        "outputId": "f888b63c-afe1-4c40-a699-ce8214204845",
        "colab": {
          "base_uri": "https://localhost:8080/",
          "height": 71
        }
      },
      "source": [
        "print((1, 2, 3) + (4, 5, 6))\n",
        "print([1, 2, 3] + [4, 5, 6])\n",
        "print(\"Hello\" + \" \" + \"World\")"
      ],
      "execution_count": 0,
      "outputs": [
        {
          "output_type": "stream",
          "text": [
            "(1, 2, 3, 4, 5, 6)\n",
            "[1, 2, 3, 4, 5, 6]\n",
            "Hello World\n"
          ],
          "name": "stdout"
        }
      ]
    },
    {
      "cell_type": "markdown",
      "metadata": {
        "id": "Ov8-AivXaMLe",
        "colab_type": "text"
      },
      "source": [
        "### * operator\n",
        "The * operator produces a new tuple, list, or string that \"repeats\" the original content."
      ]
    },
    {
      "cell_type": "code",
      "metadata": {
        "id": "Zedc253iaMLf",
        "colab_type": "code",
        "outputId": "07e5469b-c980-4f39-fd28-23e214e586b1",
        "colab": {
          "base_uri": "https://localhost:8080/",
          "height": 71
        }
      },
      "source": [
        "print((1, 2, 3) * 3)\n",
        "print([1, 2, 3] * 3)\n",
        "print(\"Hello \"*3)"
      ],
      "execution_count": 0,
      "outputs": [
        {
          "output_type": "stream",
          "text": [
            "(1, 2, 3, 1, 2, 3, 1, 2, 3)\n",
            "[1, 2, 3, 1, 2, 3, 1, 2, 3]\n",
            "Hello Hello Hello \n"
          ],
          "name": "stdout"
        }
      ]
    },
    {
      "cell_type": "markdown",
      "metadata": {
        "id": "OaHjIqKWaMLh",
        "colab_type": "text"
      },
      "source": [
        "## Containers\n",
        "Python includes several built-in container types: lists, dictionaries, sets, and tuples."
      ]
    },
    {
      "cell_type": "markdown",
      "metadata": {
        "id": "OAGJqxCkaMLi",
        "colab_type": "text"
      },
      "source": [
        "### Tuple\n",
        "A simple immutable (변경할 수 없는, 불변의) ordered sequence of items"
      ]
    },
    {
      "cell_type": "code",
      "metadata": {
        "id": "dny8-Lf1aMLi",
        "colab_type": "code",
        "outputId": "64300904-302f-4352-9896-b26dd71b4bb2",
        "colab": {
          "base_uri": "https://localhost:8080/",
          "height": 53
        }
      },
      "source": [
        "# -*- coding: utf-8 -*-\n",
        "# creating a tuple\n",
        "months = ('January','February','March','April','May','June',\\\n",
        "'July','August','September','October','November','December')\n",
        "\n",
        "print(months[0])\n",
        "print(\"index of 7 ==> \" , months[7])"
      ],
      "execution_count": 0,
      "outputs": [
        {
          "output_type": "stream",
          "text": [
            "January\n",
            "('index of 7 ==> ', 'August')\n"
          ],
          "name": "stdout"
        }
      ]
    },
    {
      "cell_type": "markdown",
      "metadata": {
        "id": "lPlHhwSHaMLl",
        "colab_type": "text"
      },
      "source": [
        "To print one by one"
      ]
    },
    {
      "cell_type": "code",
      "metadata": {
        "scrolled": true,
        "id": "ScQmISeXaMLm",
        "colab_type": "code",
        "outputId": "b883afb2-1fa3-4750-eee1-75483d62e05b",
        "colab": {
          "base_uri": "https://localhost:8080/",
          "height": 233
        }
      },
      "source": [
        "# iterate through them:\n",
        "for item in months:\n",
        "    print (item)"
      ],
      "execution_count": 0,
      "outputs": [
        {
          "output_type": "stream",
          "text": [
            "January\n",
            "February\n",
            "March\n",
            "April\n",
            "May\n",
            "June\n",
            "July\n",
            "August\n",
            "September\n",
            "October\n",
            "November\n",
            "December\n"
          ],
          "name": "stdout"
        }
      ]
    },
    {
      "cell_type": "code",
      "metadata": {
        "id": "dy8rjBh6aMLo",
        "colab_type": "code",
        "outputId": "3c34c34c-7be9-4c2e-a33f-69b76e0712e8",
        "colab": {
          "base_uri": "https://localhost:8080/",
          "height": 143
        }
      },
      "source": [
        "t = ('john', 32, (2,3,4,5), 'hello')\n",
        "print(t)\n",
        "print(t[2])\n",
        "print(t[2][1])\n",
        "print(t[:2]) # index NOT included\n",
        "print(t[2:]) # index included O\n",
        "\n",
        "print(t[-1])\n",
        "print(t[-2])"
      ],
      "execution_count": 0,
      "outputs": [
        {
          "output_type": "stream",
          "text": [
            "('john', 32, (2, 3, 4, 5), 'hello')\n",
            "(2, 3, 4, 5)\n",
            "3\n",
            "('john', 32)\n",
            "((2, 3, 4, 5), 'hello')\n",
            "hello\n",
            "(2, 3, 4, 5)\n"
          ],
          "name": "stdout"
        }
      ]
    },
    {
      "cell_type": "markdown",
      "metadata": {
        "id": "Vpp-tDMuaMLq",
        "colab_type": "text"
      },
      "source": [
        "### List\n",
        "Mutable (바꿀수 있는, 변경가능한) ordered sequence of items of mixed types"
      ]
    },
    {
      "cell_type": "code",
      "metadata": {
        "id": "oOpLGVahaMLr",
        "colab_type": "code",
        "outputId": "f9ac930f-a404-4344-bf08-2ccc639f93bc",
        "colab": {
          "base_uri": "https://localhost:8080/",
          "height": 71
        }
      },
      "source": [
        "li = ['hallym', 1, 3.141572, 'hello']\n",
        "print(li)\n",
        "li[1] = 45\n",
        "print(li)\n",
        "li.append('September')\n",
        "print(li)"
      ],
      "execution_count": 0,
      "outputs": [
        {
          "output_type": "stream",
          "text": [
            "['hallym', 1, 3.141572, 'hello']\n",
            "['hallym', 45, 3.141572, 'hello']\n",
            "['hallym', 45, 3.141572, 'hello', 'September']\n"
          ],
          "name": "stdout"
        }
      ]
    },
    {
      "cell_type": "code",
      "metadata": {
        "id": "YiwNIcn3aMLv",
        "colab_type": "code",
        "outputId": "3210b622-beba-4f85-ca95-0202b570baae",
        "colab": {
          "base_uri": "https://localhost:8080/",
          "height": 71
        }
      },
      "source": [
        "v = [] # 작업을 실행하기 전 빈 공간\n",
        "for i in range(0,3): # i는 0 부터 3 미만까지\n",
        "    v.append(i) # v에 i를 추가한다.\n",
        "    print(v) # v의 목록 전체를 출력한다."
      ],
      "execution_count": 0,
      "outputs": [
        {
          "output_type": "stream",
          "text": [
            "[0]\n",
            "[0, 1]\n",
            "[0, 1, 2]\n"
          ],
          "name": "stdout"
        }
      ]
    },
    {
      "cell_type": "code",
      "metadata": {
        "id": "HWCorxX7CzIW",
        "colab_type": "code",
        "colab": {}
      },
      "source": [
        ""
      ],
      "execution_count": 0,
      "outputs": []
    }
  ]
}