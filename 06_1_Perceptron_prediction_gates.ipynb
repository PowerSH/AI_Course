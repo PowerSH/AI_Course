{
  "nbformat": 4,
  "nbformat_minor": 0,
  "metadata": {
    "colab": {
      "name": "06_1_Perceptron_prediction_gates.ipynb",
      "version": "0.3.2",
      "provenance": [],
      "collapsed_sections": [],
      "include_colab_link": true
    },
    "kernelspec": {
      "display_name": "Python 2",
      "language": "python",
      "name": "python2"
    }
  },
  "cells": [
    {
      "cell_type": "markdown",
      "metadata": {
        "id": "view-in-github",
        "colab_type": "text"
      },
      "source": [
        "<a href=\"https://colab.research.google.com/github/PowerSH/AI_Course/blob/master/06_1_Perceptron_prediction_gates.ipynb\" target=\"_parent\"><img src=\"https://colab.research.google.com/assets/colab-badge.svg\" alt=\"Open In Colab\"/></a>"
      ]
    },
    {
      "cell_type": "markdown",
      "metadata": {
        "id": "64ghGrXy_Tw5",
        "colab_type": "text"
      },
      "source": [
        "### Perceptrons - Making Predictions\n",
        "#### Creating a gate with Perceptron"
      ]
    },
    {
      "cell_type": "code",
      "metadata": {
        "id": "_TV1CV4c_Tw6",
        "colab_type": "code",
        "colab": {}
      },
      "source": [
        "import numpy as np"
      ],
      "execution_count": 0,
      "outputs": []
    },
    {
      "cell_type": "markdown",
      "metadata": {
        "id": "lLtvJUUu_Tw9",
        "colab_type": "text"
      },
      "source": [
        "### AND Gate"
      ]
    },
    {
      "cell_type": "code",
      "metadata": {
        "id": "tWG-Dcn5_Tw9",
        "colab_type": "code",
        "colab": {}
      },
      "source": [
        "def AND(x1, x2):\n",
        "  # 교수님이 w가 다 더해서 1이 되어야 한다는 의미는. 다 더해서 1을 넘어도 상관이 없으나, 나중에 추가적으로 계산을 해줘야해서 처음부터 다 더해서 1을 만들어 주는 편이 편하다~ 라는 겁니다.\n",
        "    x = np.array([x1, x2])\n",
        "    w = np.array([0.5, 0.5]) # w는 가중치를 의미합니다. 기울기라고 봐도 괜찮습니다.\n",
        "    b = -0.7 # bias == 절편\n",
        "    # activation 계산\n",
        "    tmp = w[0]*x[0] + w[1]*x[1] + b # tmp = np.sum(w*x) + b\n",
        "    print(\"AND({0},{1}) # activation : {2}\".format(x1,x2,tmp))\n",
        "    if tmp <= 0:\n",
        "      print(\"result = 0\")\n",
        "      return 0\n",
        "    else:\n",
        "      print(\"result = 1\")\n",
        "      return 1"
      ],
      "execution_count": 0,
      "outputs": []
    },
    {
      "cell_type": "code",
      "metadata": {
        "id": "SJjdeAUH_TxA",
        "colab_type": "code",
        "outputId": "0f689675-4f91-4dd5-bb9c-5f51a52ad386",
        "colab": {
          "base_uri": "https://localhost:8080/",
          "height": 179
        }
      },
      "source": [
        "AND(0,0)\n",
        "AND(0,1)\n",
        "AND(1,0)\n",
        "AND(1,1)"
      ],
      "execution_count": 0,
      "outputs": [
        {
          "output_type": "stream",
          "text": [
            "AND(0,0) # activation : -0.7\n",
            "result = 0\n",
            "AND(0,1) # activation : -0.2\n",
            "result = 0\n",
            "AND(1,0) # activation : -0.2\n",
            "result = 0\n",
            "AND(1,1) # activation : 0.3\n",
            "result = 1\n"
          ],
          "name": "stdout"
        },
        {
          "output_type": "execute_result",
          "data": {
            "text/plain": [
              "1"
            ]
          },
          "metadata": {
            "tags": []
          },
          "execution_count": 3
        }
      ]
    },
    {
      "cell_type": "markdown",
      "metadata": {
        "id": "N8Dp-DoL_TxM",
        "colab_type": "text"
      },
      "source": [
        "### NAND Gate"
      ]
    },
    {
      "cell_type": "code",
      "metadata": {
        "id": "DAYjhgMb_TxN",
        "colab_type": "code",
        "colab": {}
      },
      "source": [
        "def NAND(x1, x2):\n",
        "    x = np.array([x1, x2])\n",
        "    w = np.array([-0.5, -0.5])\n",
        "    b = 0.7\n",
        "    tmp = w[0]*x[0] + w[1]*x[1] + b\n",
        "    print(\"NAND({0},{1}) # activation : {2}\".format(x1,x2,tmp))\n",
        "    if tmp <= 0:\n",
        "      print(\"result = 0\")\n",
        "      return 0\n",
        "    else:\n",
        "      print(\"result = 1\")\n",
        "      return 1"
      ],
      "execution_count": 0,
      "outputs": []
    },
    {
      "cell_type": "code",
      "metadata": {
        "id": "nhg2id8e_TxP",
        "colab_type": "code",
        "outputId": "0efad4e4-d413-40b7-c4b6-976758575f5a",
        "colab": {
          "base_uri": "https://localhost:8080/",
          "height": 179
        }
      },
      "source": [
        "NAND(0,0)\n",
        "NAND(0,1)\n",
        "NAND(1,0)\n",
        "NAND(1,1)"
      ],
      "execution_count": 0,
      "outputs": [
        {
          "output_type": "stream",
          "text": [
            "NAND(0,0) # activation : 0.7\n",
            "result = 1\n",
            "NAND(0,1) # activation : 0.2\n",
            "result = 1\n",
            "NAND(1,0) # activation : 0.2\n",
            "result = 1\n",
            "NAND(1,1) # activation : -0.3\n",
            "result = 0\n"
          ],
          "name": "stdout"
        },
        {
          "output_type": "execute_result",
          "data": {
            "text/plain": [
              "0"
            ]
          },
          "metadata": {
            "tags": []
          },
          "execution_count": 5
        }
      ]
    },
    {
      "cell_type": "markdown",
      "metadata": {
        "id": "xpFPpB9h_TxX",
        "colab_type": "text"
      },
      "source": [
        "### OR Gate"
      ]
    },
    {
      "cell_type": "code",
      "metadata": {
        "id": "BQxjjJHM_TxY",
        "colab_type": "code",
        "colab": {}
      },
      "source": [
        "def OR(x1, x2):\n",
        "    x = np.array([x1, x2])\n",
        "    w = np.array([0.5, 0.5])\n",
        "    b = -0.2\n",
        "    tmp = np.sum(w*x) + b\n",
        "    print(\"OR({0},{1}) # activation : {2}\".format(x1,x2,tmp))\n",
        "    if tmp <= 0:\n",
        "      print(\"result = 0\")\n",
        "      return 0\n",
        "    else:\n",
        "      print(\"result = 1\")\n",
        "      return 1"
      ],
      "execution_count": 0,
      "outputs": []
    },
    {
      "cell_type": "code",
      "metadata": {
        "id": "FG0Gl-wa_Txa",
        "colab_type": "code",
        "outputId": "ace1097d-3690-4332-e40d-d1f4cf911dee",
        "colab": {
          "base_uri": "https://localhost:8080/",
          "height": 179
        }
      },
      "source": [
        "OR(0,0)\n",
        "OR(0,1)\n",
        "OR(1,0)\n",
        "OR(1,1)"
      ],
      "execution_count": 0,
      "outputs": [
        {
          "output_type": "stream",
          "text": [
            "OR(0,0) # activation : -0.2\n",
            "result = 0\n",
            "OR(0,1) # activation : 0.3\n",
            "result = 1\n",
            "OR(1,0) # activation : 0.3\n",
            "result = 1\n",
            "OR(1,1) # activation : 0.8\n",
            "result = 1\n"
          ],
          "name": "stdout"
        },
        {
          "output_type": "execute_result",
          "data": {
            "text/plain": [
              "1"
            ]
          },
          "metadata": {
            "tags": []
          },
          "execution_count": 7
        }
      ]
    },
    {
      "cell_type": "markdown",
      "metadata": {
        "id": "CIzIqnuN_Txq",
        "colab_type": "text"
      },
      "source": [
        "### XOR Gate"
      ]
    },
    {
      "cell_type": "code",
      "metadata": {
        "id": "sqIqhkGB_Txr",
        "colab_type": "code",
        "colab": {}
      },
      "source": [
        "def XOR(x1, x2):\n",
        "    s1 = NAND(x1, x2)\n",
        "    s2 = OR(x1, x2)\n",
        "    y = AND(s1, s2)    \n",
        "    if y <= 0:\n",
        "      print(\"########## ############\")\n",
        "      print(\"XOR({0},{1}) # result = 0)\".format(x1,x2))\n",
        "      print(\"########## ############\")\n",
        "      return y\n",
        "    else:\n",
        "      print(\"########## ############\")\n",
        "      print(\"XOR({0},{1}) # result = 1)\".format(x1,x2))\n",
        "      print(\"########## ############\")\n",
        "      return y    "
      ],
      "execution_count": 0,
      "outputs": []
    },
    {
      "cell_type": "code",
      "metadata": {
        "id": "XGhd8Ywz_Txt",
        "colab_type": "code",
        "outputId": "8220b7fa-e13e-4492-8299-1e1971c7cfd9",
        "colab": {
          "base_uri": "https://localhost:8080/",
          "height": 683
        }
      },
      "source": [
        "XOR(0,0)\n",
        "XOR(0,1)\n",
        "XOR(1,0)\n",
        "XOR(1,1)"
      ],
      "execution_count": 0,
      "outputs": [
        {
          "output_type": "stream",
          "text": [
            "NAND(0,0) # activation : 0.7\n",
            "result = 1\n",
            "OR(0,0) # activation : -0.2\n",
            "result = 0\n",
            "AND(1,0) # activation : -0.2\n",
            "result = 0\n",
            "########## ############\n",
            "XOR(0,0) # result = 0)\n",
            "########## ############\n",
            "NAND(0,1) # activation : 0.2\n",
            "result = 1\n",
            "OR(0,1) # activation : 0.3\n",
            "result = 1\n",
            "AND(1,1) # activation : 0.3\n",
            "result = 1\n",
            "########## ############\n",
            "XOR(0,1) # result = 1)\n",
            "########## ############\n",
            "NAND(1,0) # activation : 0.2\n",
            "result = 1\n",
            "OR(1,0) # activation : 0.3\n",
            "result = 1\n",
            "AND(1,1) # activation : 0.3\n",
            "result = 1\n",
            "########## ############\n",
            "XOR(1,0) # result = 1)\n",
            "########## ############\n",
            "NAND(1,1) # activation : -0.3\n",
            "result = 0\n",
            "OR(1,1) # activation : 0.8\n",
            "result = 1\n",
            "AND(0,1) # activation : -0.2\n",
            "result = 0\n",
            "########## ############\n",
            "XOR(1,1) # result = 0)\n",
            "########## ############\n"
          ],
          "name": "stdout"
        },
        {
          "output_type": "execute_result",
          "data": {
            "text/plain": [
              "0"
            ]
          },
          "metadata": {
            "tags": []
          },
          "execution_count": 9
        }
      ]
    },
    {
      "cell_type": "markdown",
      "metadata": {
        "id": "U6Mffuz9_Tx5",
        "colab_type": "text"
      },
      "source": [
        "XOR cannot be expressed as a single layer Perceptron."
      ]
    }
  ]
}