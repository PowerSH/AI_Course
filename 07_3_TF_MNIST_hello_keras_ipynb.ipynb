{
  "nbformat": 4,
  "nbformat_minor": 0,
  "metadata": {
    "colab": {
      "name": "07_3_TF_MNIST_hello_keras_ipynb.ipynb",
      "version": "0.3.2",
      "provenance": [],
      "collapsed_sections": [],
      "include_colab_link": true
    },
    "kernelspec": {
      "name": "python3",
      "display_name": "Python 3"
    }
  },
  "cells": [
    {
      "cell_type": "markdown",
      "metadata": {
        "id": "view-in-github",
        "colab_type": "text"
      },
      "source": [
        "<a href=\"https://colab.research.google.com/github/PowerSH/AI_Course/blob/master/07_3_TF_MNIST_hello_keras_ipynb.ipynb\" target=\"_parent\"><img src=\"https://colab.research.google.com/assets/colab-badge.svg\" alt=\"Open In Colab\"/></a>"
      ]
    },
    {
      "cell_type": "code",
      "metadata": {
        "id": "W1e5h7-Y6kEM",
        "colab_type": "code",
        "colab": {}
      },
      "source": [
        "import tensorflow as tf\n",
        "mnist = tf.keras.datasets.mnist"
      ],
      "execution_count": 0,
      "outputs": []
    },
    {
      "cell_type": "code",
      "metadata": {
        "id": "dQZwiMnL6ueC",
        "colab_type": "code",
        "outputId": "d34a19b7-cfba-4c13-b52a-9106a032d262",
        "colab": {
          "base_uri": "https://localhost:8080/",
          "height": 53
        }
      },
      "source": [
        "(x_train, y_train),(x_test, y_test) = mnist.load_data()\n",
        "x_train = x_train / 255.0\n",
        "x_test = x_test / 255.0"
      ],
      "execution_count": 0,
      "outputs": [
        {
          "output_type": "stream",
          "text": [
            "Downloading data from https://storage.googleapis.com/tensorflow/tf-keras-datasets/mnist.npz\n",
            "11493376/11490434 [==============================] - 0s 0us/step\n"
          ],
          "name": "stdout"
        }
      ]
    },
    {
      "cell_type": "code",
      "metadata": {
        "id": "ANEKq3-w6yaA",
        "colab_type": "code",
        "outputId": "cf2920d2-b7ff-463d-c803-3d556faec208",
        "colab": {
          "base_uri": "https://localhost:8080/",
          "height": 71
        }
      },
      "source": [
        "model = tf.keras.models.Sequential([\n",
        "  tf.keras.layers.Flatten(input_shape=(28, 28)),\n",
        "  tf.keras.layers.Dense(512, activation=tf.nn.relu), # 784개의 뉴런에서 바로 10개의 확률을 추출하는것이 아니라 512개의 Hidden Layer를 추가하여 좀 더 촘촘하게 연결한다.(당연히 시간이 더 소모된다.)\n",
        "  \n",
        "  tf.keras.layers.Dense(10, activation=tf.nn.softmax) # 위에서 펼친 784개의 뉴런을 촘촘하게 거미줄처럼 연결하여 최종적으로 10개의 그릇엔 확률을 담게 된다.\n",
        "])\n",
        "model.compile(optimizer='adam',# 이 최적화머신은 절반은 모멘텀(관성)으로 이루어져 있다.\n",
        "              loss='sparse_categorical_crossentropy',\n",
        "              metrics=['accuracy'])\n"
      ],
      "execution_count": 0,
      "outputs": [
        {
          "output_type": "stream",
          "text": [
            "WARNING:tensorflow:From /usr/local/lib/python3.6/dist-packages/tensorflow/python/ops/resource_variable_ops.py:435: colocate_with (from tensorflow.python.framework.ops) is deprecated and will be removed in a future version.\n",
            "Instructions for updating:\n",
            "Colocations handled automatically by placer.\n"
          ],
          "name": "stdout"
        }
      ]
    },
    {
      "cell_type": "markdown",
      "metadata": {
        "id": "OCqoLTuyjQG1",
        "colab_type": "text"
      },
      "source": [
        "optimizer 즉, 최적화머신은 다양한 머신들이 있는데, Gradient Descent(경사하강법), adam(Adaptive Moment Estimation) 등 최적의 답을 찾아내는데 필요한 머신들로 구성되어있다. 결과에 따라서 최적화 머신을 다르게 하면 결과가 달라질 수 있다. adam이 optimizer중에는 제일 준수한 성능을 내는 것으로 알려져 있다.\n",
        "\n",
        "### adam이 어떻게 구성되어있는지 알아볼 필요가 있다.\n",
        "http://shuuki4.github.io/deep%20learning/2016/05/20/Gradient-Descent-Algorithm-Overview.html"
      ]
    },
    {
      "cell_type": "code",
      "metadata": {
        "id": "n1WeEb6Z6wLN",
        "colab_type": "code",
        "outputId": "b2516f03-d3bc-4d79-bddb-95841410894d",
        "colab": {
          "base_uri": "https://localhost:8080/",
          "height": 215
        }
      },
      "source": [
        "\n",
        "model.fit(x_train, y_train, epochs=5) # x_train 데이터와 y_train 데이터를 5번 반복하며 model에 fit한다.(fit은 모델에 맞춘다는 의미)\n"
      ],
      "execution_count": 0,
      "outputs": [
        {
          "output_type": "stream",
          "text": [
            "Epoch 1/5\n",
            "60000/60000 [==============================] - 13s 216us/sample - loss: 0.2043 - acc: 0.9395\n",
            "Epoch 2/5\n",
            "60000/60000 [==============================] - 12s 208us/sample - loss: 0.0816 - acc: 0.9748\n",
            "Epoch 3/5\n",
            "60000/60000 [==============================] - 12s 208us/sample - loss: 0.0528 - acc: 0.9834\n",
            "Epoch 4/5\n",
            "60000/60000 [==============================] - 13s 211us/sample - loss: 0.0367 - acc: 0.9877\n",
            "Epoch 5/5\n",
            "60000/60000 [==============================] - 13s 212us/sample - loss: 0.0277 - acc: 0.9909\n"
          ],
          "name": "stdout"
        },
        {
          "output_type": "execute_result",
          "data": {
            "text/plain": [
              "<tensorflow.python.keras.callbacks.History at 0x7f436a865208>"
            ]
          },
          "metadata": {
            "tags": []
          },
          "execution_count": 4
        }
      ]
    },
    {
      "cell_type": "code",
      "metadata": {
        "id": "YOpQsjqkdw9n",
        "colab_type": "code",
        "outputId": "f9b6a7fd-5aa3-4dd1-9791-210da4fed62c",
        "colab": {
          "base_uri": "https://localhost:8080/",
          "height": 251
        }
      },
      "source": [
        "model.summary() # W * X + B\n",
        "# 입력값에 bias를 더한값과 가중치를 곱한 값이 파라미터가 된다."
      ],
      "execution_count": 0,
      "outputs": [
        {
          "output_type": "stream",
          "text": [
            "_________________________________________________________________\n",
            "Layer (type)                 Output Shape              Param #   \n",
            "=================================================================\n",
            "flatten (Flatten)            (None, 784)               0         \n",
            "_________________________________________________________________\n",
            "dense (Dense)                (None, 512)               401920    \n",
            "_________________________________________________________________\n",
            "dense_1 (Dense)              (None, 10)                5130      \n",
            "=================================================================\n",
            "Total params: 407,050\n",
            "Trainable params: 407,050\n",
            "Non-trainable params: 0\n",
            "_________________________________________________________________\n"
          ],
          "name": "stdout"
        }
      ]
    },
    {
      "cell_type": "code",
      "metadata": {
        "id": "6FDM2nCogi18",
        "colab_type": "code",
        "outputId": "d07d1a93-aa62-4d18-ae8f-249c79cae321",
        "colab": {
          "base_uri": "https://localhost:8080/",
          "height": 89
        }
      },
      "source": [
        "print(\"=======================================\")\n",
        "print(\"Layer 1 : \", (784 + 1) * 512)\n",
        "print(\"Layer 2 : \", (512 + 1) * 10)\n",
        "print(\"=======================================\")"
      ],
      "execution_count": 0,
      "outputs": [
        {
          "output_type": "stream",
          "text": [
            "=======================================\n",
            "Layer 1 :  401920\n",
            "Layer 2 :  5130\n",
            "=======================================\n"
          ],
          "name": "stdout"
        }
      ]
    },
    {
      "cell_type": "markdown",
      "metadata": {
        "id": "asFymvIZk9Cy",
        "colab_type": "text"
      },
      "source": [
        "#### Training Accuracy"
      ]
    },
    {
      "cell_type": "code",
      "metadata": {
        "id": "9RAcVORCI63s",
        "colab_type": "code",
        "outputId": "4256c048-a85c-43d6-9965-e4ae2e52969f",
        "colab": {
          "base_uri": "https://localhost:8080/",
          "height": 53
        }
      },
      "source": [
        "model.evaluate(x_train, y_train)"
      ],
      "execution_count": 0,
      "outputs": [
        {
          "output_type": "stream",
          "text": [
            "60000/60000 [==============================] - 3s 52us/sample - loss: 0.0236 - acc: 0.9922\n"
          ],
          "name": "stdout"
        },
        {
          "output_type": "execute_result",
          "data": {
            "text/plain": [
              "[0.023623107492068085, 0.99223334]"
            ]
          },
          "metadata": {
            "tags": []
          },
          "execution_count": 8
        }
      ]
    },
    {
      "cell_type": "markdown",
      "metadata": {
        "id": "mrSv23xYk5-j",
        "colab_type": "text"
      },
      "source": [
        "#### Test Accuracy"
      ]
    },
    {
      "cell_type": "code",
      "metadata": {
        "id": "H4pBTMpH9kb6",
        "colab_type": "code",
        "outputId": "7795156a-c857-435b-a142-bcf9cc8a0ad0",
        "colab": {
          "base_uri": "https://localhost:8080/",
          "height": 53
        }
      },
      "source": [
        "model.evaluate(x_test, y_test)"
      ],
      "execution_count": 0,
      "outputs": [
        {
          "output_type": "stream",
          "text": [
            "10000/10000 [==============================] - 1s 55us/sample - loss: 0.0750 - acc: 0.9786\n"
          ],
          "name": "stdout"
        },
        {
          "output_type": "execute_result",
          "data": {
            "text/plain": [
              "[0.07497045551972696, 0.9786]"
            ]
          },
          "metadata": {
            "tags": []
          },
          "execution_count": 7
        }
      ]
    },
    {
      "cell_type": "markdown",
      "metadata": {
        "id": "e0FHtyJWI6Tz",
        "colab_type": "text"
      },
      "source": [
        "### *Real World Challenge*: Large difference between training and testing set accuracy"
      ]
    }
  ]
}