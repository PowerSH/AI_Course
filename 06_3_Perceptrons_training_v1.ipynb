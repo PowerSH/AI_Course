{
  "nbformat": 4,
  "nbformat_minor": 0,
  "metadata": {
    "colab": {
      "name": "06_3_Perceptrons_training_v1.ipynb",
      "version": "0.3.2",
      "provenance": [],
      "collapsed_sections": [],
      "include_colab_link": true
    },
    "kernelspec": {
      "name": "python3",
      "display_name": "Python 3"
    }
  },
  "cells": [
    {
      "cell_type": "markdown",
      "metadata": {
        "id": "view-in-github",
        "colab_type": "text"
      },
      "source": [
        "<a href=\"https://colab.research.google.com/github/PowerSH/AI_Course/blob/master/06_3_Perceptrons_training_v1.ipynb\" target=\"_parent\"><img src=\"https://colab.research.google.com/assets/colab-badge.svg\" alt=\"Open In Colab\"/></a>"
      ]
    },
    {
      "cell_type": "markdown",
      "metadata": {
        "id": "LveWXYZvD04s",
        "colab_type": "text"
      },
      "source": [
        "### Perceptrons - Training"
      ]
    },
    {
      "cell_type": "markdown",
      "metadata": {
        "id": "8SDljWYlD04t",
        "colab_type": "text"
      },
      "source": [
        "Note for 717005@ Hallym University !"
      ]
    },
    {
      "cell_type": "markdown",
      "metadata": {
        "id": "71g3fEHXD04u",
        "colab_type": "text"
      },
      "source": [
        "* Make a prediction with weights"
      ]
    },
    {
      "cell_type": "code",
      "metadata": {
        "id": "V8OGT65LD04v",
        "colab_type": "code",
        "colab": {}
      },
      "source": [
        "def predict(X, w):\n",
        "    bias = w[0]\n",
        "    activation = bias + w[1]* X[0] + w[2]* X[1]\n",
        "    if activation >= 0.0:\n",
        "        return 1.0\n",
        "    else:\n",
        "        return 0.0"
      ],
      "execution_count": 0,
      "outputs": []
    },
    {
      "cell_type": "markdown",
      "metadata": {
        "id": "b3ao4g0lD04x",
        "colab_type": "text"
      },
      "source": [
        "* Estimate Perceptron weights using stochastic gradient descent"
      ]
    },
    {
      "cell_type": "code",
      "metadata": {
        "id": "UxcyEyCmD04y",
        "colab_type": "code",
        "colab": {}
      },
      "source": [
        "def train_weights(train, l_rate, n_epoch): # train은 트레이닝 데이터셋, l_rate은 학습률(learning rate), n_epoch는 반복횟수, \n",
        "    # weights = [0.0 for i in range(len(train[0]))] # weights가 주어지지 않아서 0.0 을 len(train[0]) 만큼 넣는다.   \n",
        "    weights = [0, 0, 0]\n",
        "    print(\"------------------------\")\n",
        "    print(weights[0])\n",
        "    print(\"------------------------\")\n",
        "    vb = []\n",
        "    vw0 = []\n",
        "    vw1 = []\n",
        "    for epoch in range(n_epoch):\n",
        "        sum_error = 0.0\n",
        "        for row in train: # 데이터 셋을 다 돌려라.\n",
        "            prediction = predict(row, weights)\n",
        "            error = row[-1] - prediction # 미분 기반\n",
        "            sum_error += error**2\n",
        "            weights[0] = weights[0] + l_rate * error # weights를 변경해보자.            \n",
        "            \n",
        "            for i in range(len(row)-1):\n",
        "                weights[i + 1] = weights[i + 1] + l_rate * error * row[i]\n",
        "                vb.append(weights[0])\n",
        "                vw0.append(weights[1])\n",
        "                vw1.append(weights[2])\n",
        "        print('epoch={}, error={}'.format(epoch, sum_error))\n",
        "    return weights, vb,vw0,vw1"
      ],
      "execution_count": 0,
      "outputs": []
    },
    {
      "cell_type": "code",
      "metadata": {
        "id": "pkYcuCYRD04z",
        "colab_type": "code",
        "colab": {}
      },
      "source": [
        "# test predictions\n",
        "dataset = [[2.7810836,2.550537003,0],\n",
        "    [1.465489372,2.362125076,0],\n",
        "    [3.396561688,4.400293529,0],\n",
        "    [1.38807019,1.850220317,0],\n",
        "    [3.06407232,3.005305973,0],\n",
        "    [7.627531214,2.759262235,1],\n",
        "    [5.332441248,2.088626775,1],\n",
        "    [6.922596716,1.77106367,1],\n",
        "    [8.675418651,-0.242068655,1],\n",
        "    [7.673756466,3.508563011,1]]"
      ],
      "execution_count": 0,
      "outputs": []
    },
    {
      "cell_type": "markdown",
      "metadata": {
        "id": "UBqIZxWbD041",
        "colab_type": "text"
      },
      "source": [
        "* Hyperparameters"
      ]
    },
    {
      "cell_type": "code",
      "metadata": {
        "id": "-plx4-ZaD042",
        "colab_type": "code",
        "colab": {}
      },
      "source": [
        "l_rate = 0.1 # 에러를 수정하는 수치의 비율이라고 \"일단은\" 생각해두자.\n",
        "n_epoch = 5"
      ],
      "execution_count": 0,
      "outputs": []
    },
    {
      "cell_type": "code",
      "metadata": {
        "id": "I3HVEAc3D043",
        "colab_type": "code",
        "outputId": "856e8796-1165-4b1b-dffe-925cfcb77a9c",
        "colab": {
          "base_uri": "https://localhost:8080/",
          "height": 161
        }
      },
      "source": [
        "weights,vb,vw0,vw1 = train_weights(dataset, l_rate, n_epoch)"
      ],
      "execution_count": 0,
      "outputs": [
        {
          "output_type": "stream",
          "text": [
            "------------------------\n",
            "0\n",
            "------------------------\n",
            "epoch=0, error=2.0\n",
            "epoch=1, error=1.0\n",
            "epoch=2, error=0.0\n",
            "epoch=3, error=0.0\n",
            "epoch=4, error=0.0\n"
          ],
          "name": "stdout"
        }
      ]
    },
    {
      "cell_type": "code",
      "metadata": {
        "id": "QFCPeHNKD047",
        "colab_type": "code",
        "outputId": "92966c95-b91f-4a11-a6e4-5f92460cb2ed",
        "colab": {
          "base_uri": "https://localhost:8080/",
          "height": 35
        }
      },
      "source": [
        "print(weights) # 06_2번 강의자료의 weights와 상당히 유사한 걸 알 수 있다."
      ],
      "execution_count": 0,
      "outputs": [
        {
          "output_type": "stream",
          "text": [
            "[-0.1, 0.20653640140000007, -0.23418117710000003]\n"
          ],
          "name": "stdout"
        }
      ]
    },
    {
      "cell_type": "code",
      "metadata": {
        "id": "wU9us_C_R8b2",
        "colab_type": "code",
        "outputId": "08b5ae1b-a7eb-4e7a-94a3-9c7acc74a2f1",
        "colab": {
          "base_uri": "https://localhost:8080/",
          "height": 35
        }
      },
      "source": [
        "pred  = predict([8,5],weights) # 임의의 테스트 수행\n",
        "print(pred)"
      ],
      "execution_count": 0,
      "outputs": [
        {
          "output_type": "stream",
          "text": [
            "1.0\n"
          ],
          "name": "stdout"
        }
      ]
    },
    {
      "cell_type": "markdown",
      "metadata": {
        "id": "OmLpYBPQD04-",
        "colab_type": "text"
      },
      "source": [
        "* Why ?"
      ]
    },
    {
      "cell_type": "code",
      "metadata": {
        "id": "VzvGKl01ONIy",
        "colab_type": "code",
        "outputId": "1461a072-0d6a-49f2-8d9f-bf936d0cadc4",
        "colab": {
          "base_uri": "https://localhost:8080/",
          "height": 287
        }
      },
      "source": [
        "import matplotlib.pyplot as plt\n",
        "\n",
        "plt.plot(vb, \"r\")\n",
        "plt.plot(vw0, \"b\")\n",
        "plt.plot(vw1, \"g\")"
      ],
      "execution_count": 0,
      "outputs": [
        {
          "output_type": "execute_result",
          "data": {
            "text/plain": [
              "[<matplotlib.lines.Line2D at 0x7ff69fcb6e10>]"
            ]
          },
          "metadata": {
            "tags": []
          },
          "execution_count": 72
        },
        {
          "output_type": "display_data",
          "data": {
            "image/png": "[encoded data removed]",
            "text/plain": [
              "<Figure size 432x288 with 1 Axes>"
            ]
          },
          "metadata": {
            "tags": []
          }
        }
      ]
    },
    {
      "cell_type": "markdown",
      "metadata": {
        "id": "qwWUc3PJD04-",
        "colab_type": "text"
      },
      "source": [
        "partial derivative with respect to m"
      ]
    },
    {
      "cell_type": "markdown",
      "metadata": {
        "id": "58d_uH2JD04_",
        "colab_type": "text"
      },
      "source": [
        "$$ \\frac{\\partial J(m,b)}{\\partial m} =  \\frac{1}{n}\\sum_{i=1}^{n} -2 x^{(i)} (y_{i}-(mx^{(i)} + b)) \\\\\n",
        "= \\frac{2}{n}\\sum_{i=1}^{n} x^{(i)} ((mx^{(i)} + b)-y^{(i)}) \\\\\n",
        "= \\frac{2}{n}\\sum_{i=1}^{n} x^{(i)} (\\hat{y}^{(i)} -y^{(i)})$$"
      ]
    },
    {
      "cell_type": "markdown",
      "metadata": {
        "id": "FRF6gRyXD04_",
        "colab_type": "text"
      },
      "source": [
        "partial derivative with respect to b"
      ]
    },
    {
      "cell_type": "markdown",
      "metadata": {
        "id": "WL3r9KQiD05A",
        "colab_type": "text"
      },
      "source": [
        "$$ \\frac{\\partial J(m,b)}{\\partial b} =  \\frac{1}{n}\\sum_{i=1}^{n} -2  (y^{(i)}-(mx^{(i)} + b)) \\\\\n",
        "= \\frac{2}{n}\\sum_{i=1}^{n}  ((mx^{(i)} + b)-y^{(i)}) \\\\\n",
        "= \\frac{2}{n}\\sum_{i=1}^{n}  (\\hat{y}^{(i)}-y^{(i)}) \\\\ $$\n"
      ]
    },
    {
      "cell_type": "markdown",
      "metadata": {
        "id": "gsqR6uImD05A",
        "colab_type": "text"
      },
      "source": [
        "Partial derivatives : https://www.mathsisfun.com/calculus/derivatives-partial.html"
      ]
    },
    {
      "cell_type": "markdown",
      "metadata": {
        "id": "JFBBM9tZD05B",
        "colab_type": "text"
      },
      "source": [
        "* References"
      ]
    },
    {
      "cell_type": "markdown",
      "metadata": {
        "id": "JKnyJyVmD05C",
        "colab_type": "text"
      },
      "source": [
        "```\n",
        "https://machinelearningmastery.com/implement-perceptron-algorithm-scratch-python/\n",
        "```"
      ]
    }
  ]
}