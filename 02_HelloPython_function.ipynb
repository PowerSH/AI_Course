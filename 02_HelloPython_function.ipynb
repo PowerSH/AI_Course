{
  "nbformat": 4,
  "nbformat_minor": 0,
  "metadata": {
    "colab": {
      "name": "02_HelloPython_function.ipynb",
      "version": "0.3.2",
      "provenance": [],
      "include_colab_link": true
    },
    "kernelspec": {
      "display_name": "Python 2",
      "language": "python",
      "name": "python2"
    }
  },
  "cells": [
    {
      "cell_type": "markdown",
      "metadata": {
        "id": "view-in-github",
        "colab_type": "text"
      },
      "source": [
        "<a href=\"https://colab.research.google.com/github/PowerSH/AI_Course/blob/master/02_HelloPython_function.ipynb\" target=\"_parent\"><img src=\"https://colab.research.google.com/assets/colab-badge.svg\" alt=\"Open In Colab\"/></a>"
      ]
    },
    {
      "cell_type": "markdown",
      "metadata": {
        "id": "5DpIye63xUrT",
        "colab_type": "text"
      },
      "source": [
        "# Python tutorial #2"
      ]
    },
    {
      "cell_type": "markdown",
      "metadata": {
        "id": "RJNiVNJ0xUrT",
        "colab_type": "text"
      },
      "source": [
        "Function & Class 를 학습합니다."
      ]
    },
    {
      "cell_type": "code",
      "metadata": {
        "id": "81xsgslcxUrU",
        "colab_type": "code",
        "colab": {}
      },
      "source": [
        "def hello():\n",
        "    print(\"Hello World\")"
      ],
      "execution_count": 0,
      "outputs": []
    },
    {
      "cell_type": "code",
      "metadata": {
        "id": "moOZYY505PPE",
        "colab_type": "code",
        "outputId": "0775fa11-32ae-4961-a447-ec2f4bc67c6d",
        "colab": {
          "base_uri": "https://localhost:8080/",
          "height": 71
        }
      },
      "source": [
        "for i in range(0,3): # 0부터 3미만\n",
        "  print(i)"
      ],
      "execution_count": 0,
      "outputs": [
        {
          "output_type": "stream",
          "text": [
            "0\n",
            "1\n",
            "2\n"
          ],
          "name": "stdout"
        }
      ]
    },
    {
      "cell_type": "code",
      "metadata": {
        "id": "a6CmJzhLxUrW",
        "colab_type": "code",
        "outputId": "61f38f4c-90be-4a47-8e9b-81def4ee5ca8",
        "colab": {
          "base_uri": "https://localhost:8080/",
          "height": 35
        }
      },
      "source": [
        "hello()"
      ],
      "execution_count": 0,
      "outputs": [
        {
          "output_type": "stream",
          "text": [
            "Hello World\n"
          ],
          "name": "stdout"
        }
      ]
    },
    {
      "cell_type": "code",
      "metadata": {
        "id": "zIs5zmLqxUra",
        "colab_type": "code",
        "colab": {}
      },
      "source": [
        "def hello(object):\n",
        "    print(\"Hello \" + object + \"!\")"
      ],
      "execution_count": 0,
      "outputs": []
    },
    {
      "cell_type": "code",
      "metadata": {
        "id": "gmymP17bxUrc",
        "colab_type": "code",
        "outputId": "f7900da0-c6af-42f8-a0f7-28d972279120",
        "colab": {
          "base_uri": "https://localhost:8080/",
          "height": 35
        }
      },
      "source": [
        "hello(\"cat\")"
      ],
      "execution_count": 0,
      "outputs": [
        {
          "output_type": "stream",
          "text": [
            "Hello cat!\n"
          ],
          "name": "stdout"
        }
      ]
    },
    {
      "cell_type": "code",
      "metadata": {
        "id": "8g6qUPADxUrf",
        "colab_type": "code",
        "colab": {}
      },
      "source": [
        "def mySum(a, b):\n",
        "    return a+b"
      ],
      "execution_count": 0,
      "outputs": []
    },
    {
      "cell_type": "code",
      "metadata": {
        "id": "dQFPgGGexUrh",
        "colab_type": "code",
        "outputId": "a4b9f775-4490-4bd9-d890-f23c5c2dbfa2",
        "colab": {
          "base_uri": "https://localhost:8080/",
          "height": 35
        }
      },
      "source": [
        "c = mySum(2, 3)\n",
        "print(c)"
      ],
      "execution_count": 0,
      "outputs": [
        {
          "output_type": "stream",
          "text": [
            "5\n"
          ],
          "name": "stdout"
        }
      ]
    },
    {
      "cell_type": "code",
      "metadata": {
        "id": "xJAye7zrxUrk",
        "colab_type": "code",
        "colab": {}
      },
      "source": [
        "class Man:\n",
        "    def __init__(self, name):\n",
        "        self.name = name\n",
        "        print(\"Initialized!\")\n",
        "        \n",
        "    def hello(self):\n",
        "        print(\"Hello \" + self.name + \" !\")\n",
        "        \n",
        "    def goodbye(self):\n",
        "        print(\"Good-bye \" + self.name + \" !\")"
      ],
      "execution_count": 0,
      "outputs": []
    },
    {
      "cell_type": "code",
      "metadata": {
        "id": "p-b7IfQIxUrm",
        "colab_type": "code",
        "outputId": "a210ac9d-cba2-45aa-843f-21a5de3b3e0f",
        "colab": {
          "base_uri": "https://localhost:8080/",
          "height": 35
        }
      },
      "source": [
        "m = Man(\"David\")"
      ],
      "execution_count": 0,
      "outputs": [
        {
          "output_type": "stream",
          "text": [
            "Initialized!\n"
          ],
          "name": "stdout"
        }
      ]
    },
    {
      "cell_type": "code",
      "metadata": {
        "id": "iouba3dPxUrp",
        "colab_type": "code",
        "outputId": "bc98ff56-f121-4dee-a523-bcf1408a19ab",
        "colab": {
          "base_uri": "https://localhost:8080/",
          "height": 35
        }
      },
      "source": [
        "m.hello()"
      ],
      "execution_count": 0,
      "outputs": [
        {
          "output_type": "stream",
          "text": [
            "Hello David !\n"
          ],
          "name": "stdout"
        }
      ]
    },
    {
      "cell_type": "code",
      "metadata": {
        "id": "PnlL6DHXxUrr",
        "colab_type": "code",
        "outputId": "4c9914e1-034e-4b30-f1e2-5eaf35cd94a7",
        "colab": {
          "base_uri": "https://localhost:8080/",
          "height": 35
        }
      },
      "source": [
        "m.goodbye()"
      ],
      "execution_count": 0,
      "outputs": [
        {
          "output_type": "stream",
          "text": [
            "Good-bye David !\n"
          ],
          "name": "stdout"
        }
      ]
    }
  ]
}