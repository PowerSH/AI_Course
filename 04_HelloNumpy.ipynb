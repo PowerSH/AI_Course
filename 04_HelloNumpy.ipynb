{
  "nbformat": 4,
  "nbformat_minor": 0,
  "metadata": {
    "colab": {
      "name": "04_HelloNumpy.ipynb",
      "version": "0.3.2",
      "provenance": [],
      "collapsed_sections": [],
      "include_colab_link": true
    },
    "language_info": {
      "codemirror_mode": {
        "name": "ipython",
        "version": 2
      },
      "file_extension": ".py",
      "mimetype": "text/x-python",
      "name": "python",
      "nbconvert_exporter": "python",
      "pygments_lexer": "ipython2",
      "version": "2.7.12"
    },
    "kernelspec": {
      "display_name": "Python 2",
      "language": "python",
      "name": "python2"
    }
  },
  "cells": [
    {
      "cell_type": "markdown",
      "metadata": {
        "id": "view-in-github",
        "colab_type": "text"
      },
      "source": [
        "<a href=\"https://colab.research.google.com/github/PowerSH/AI_Course/blob/master/04_HelloNumpy.ipynb\" target=\"_parent\"><img src=\"https://colab.research.google.com/assets/colab-badge.svg\" alt=\"Open In Colab\"/></a>"
      ]
    },
    {
      "cell_type": "markdown",
      "metadata": {
        "id": "Ix0Wm06D7Ey2",
        "colab_type": "text"
      },
      "source": [
        "# Hello NumPy !"
      ]
    },
    {
      "cell_type": "markdown",
      "metadata": {
        "id": "4BpM9fhq7Ey9",
        "colab_type": "text"
      },
      "source": [
        "### OBJECTIVE: Familiarize yourself with Numpy\n",
        "\n",
        "* This page was created for students to learn Python in the AI (717005) class at Hallym University.\n",
        "* 본 페이지는 한림대학교 인공지능개론(717005) 수업에서 학생들의 Python 학습을 위해 만든 페이지입니다. "
      ]
    },
    {
      "cell_type": "code",
      "metadata": {
        "id": "YszqHNXz7Ey_",
        "colab_type": "code",
        "colab": {}
      },
      "source": [
        "import numpy as np"
      ],
      "execution_count": 0,
      "outputs": []
    },
    {
      "cell_type": "code",
      "metadata": {
        "id": "ogz2PN6C7EzC",
        "colab_type": "code",
        "outputId": "3c7ecdf1-ee3d-43da-fba0-9b72be551008",
        "colab": {
          "base_uri": "https://localhost:8080/",
          "height": 89
        }
      },
      "source": [
        "a = np.array([1, 2, 3])   \n",
        "\n",
        "print(type(a))            #  “<type ‘numpy.ndarray’>”\n",
        "print(a.shape)            #  “(3,)”\n",
        "print(a[0], a[1], a[2])   #  “1 2 3”\n",
        "a[0] = 5                \n",
        "print(a)                  # \"[5, 2, 3]\""
      ],
      "execution_count": 0,
      "outputs": [
        {
          "output_type": "stream",
          "text": [
            "<type 'numpy.ndarray'>\n",
            "(3,)\n",
            "(1, 2, 3)\n",
            "[5 2 3]\n"
          ],
          "name": "stdout"
        }
      ]
    },
    {
      "cell_type": "code",
      "metadata": {
        "id": "vBnQqWMG7EzP",
        "colab_type": "code",
        "outputId": "9aff96fc-e09c-46f7-ca86-0ed25ca80f76",
        "colab": {
          "base_uri": "https://localhost:8080/",
          "height": 53
        }
      },
      "source": [
        "b = np.array([[1,2,3],[4,5,6]])   # Create an array with a rank of 2 (rank가 2인 배열 생성)\n",
        "print(b)"
      ],
      "execution_count": 0,
      "outputs": [
        {
          "output_type": "stream",
          "text": [
            "[[1 2 3]\n",
            " [4 5 6]]\n"
          ],
          "name": "stdout"
        }
      ]
    },
    {
      "cell_type": "code",
      "metadata": {
        "id": "0aUyjsku7EzT",
        "colab_type": "code",
        "outputId": "5e75005f-f1ff-4484-b653-4f0cb60b227d",
        "colab": {
          "base_uri": "https://localhost:8080/",
          "height": 35
        }
      },
      "source": [
        "print(b.shape)                     #  \"(2, 3)\""
      ],
      "execution_count": 0,
      "outputs": [
        {
          "output_type": "stream",
          "text": [
            "(2, 3)\n"
          ],
          "name": "stdout"
        }
      ]
    },
    {
      "cell_type": "code",
      "metadata": {
        "id": "GDKUTEsd7EzW",
        "colab_type": "code",
        "outputId": "11a0dd07-6671-4c37-cbc6-a12f120465e1",
        "colab": {
          "base_uri": "https://localhost:8080/",
          "height": 35
        }
      },
      "source": [
        "print(b[0, 0])"
      ],
      "execution_count": 0,
      "outputs": [
        {
          "output_type": "stream",
          "text": [
            "1\n"
          ],
          "name": "stdout"
        }
      ]
    },
    {
      "cell_type": "code",
      "metadata": {
        "id": "MH_cBjq67Ezi",
        "colab_type": "code",
        "outputId": "7fba22b5-b035-4ab6-b031-58f05efbaea0",
        "colab": {
          "base_uri": "https://localhost:8080/",
          "height": 35
        }
      },
      "source": [
        "print(b[1, 1])"
      ],
      "execution_count": 0,
      "outputs": [
        {
          "output_type": "stream",
          "text": [
            "5\n"
          ],
          "name": "stdout"
        }
      ]
    },
    {
      "cell_type": "code",
      "metadata": {
        "id": "BvgLzJ8F7Ezl",
        "colab_type": "code",
        "outputId": "2295c16f-07a7-4252-cdf1-804ab2d8cd6e",
        "colab": {
          "base_uri": "https://localhost:8080/",
          "height": 35
        }
      },
      "source": [
        "print(b[1, 2])"
      ],
      "execution_count": 0,
      "outputs": [
        {
          "output_type": "stream",
          "text": [
            "6\n"
          ],
          "name": "stdout"
        }
      ]
    },
    {
      "cell_type": "markdown",
      "metadata": {
        "id": "kHCUSpuG7Ezo",
        "colab_type": "text"
      },
      "source": [
        "### Axis / axes"
      ]
    },
    {
      "cell_type": "markdown",
      "metadata": {
        "id": "fnusffoU7Ezp",
        "colab_type": "text"
      },
      "source": [
        "* the nth coordinate to index an array in Numpy. \n",
        "* multidimensional arrays can have one index per axis."
      ]
    },
    {
      "cell_type": "code",
      "metadata": {
        "id": "_gwy4bEe7Ezx",
        "colab_type": "code",
        "outputId": "b2ec194a-abab-40f4-ee56-9d137dd43ed5",
        "colab": {
          "base_uri": "https://localhost:8080/",
          "height": 53
        }
      },
      "source": [
        "import numpy as np\n",
        "\n",
        "a = np.array([[1, 2], [3, 4]])\n",
        "print a"
      ],
      "execution_count": 0,
      "outputs": [
        {
          "output_type": "stream",
          "text": [
            "[[1 2]\n",
            " [3 4]]\n"
          ],
          "name": "stdout"
        }
      ]
    },
    {
      "cell_type": "markdown",
      "metadata": {
        "id": "hbJ7DCKq7Ez1",
        "colab_type": "text"
      },
      "source": [
        "* If not specified, the overall mean will be obtained\n",
        "(지정하지 않으면 전체 평균을 구하게 됨)"
      ]
    },
    {
      "cell_type": "code",
      "metadata": {
        "id": "yf8pwTQ67Ez1",
        "colab_type": "code",
        "outputId": "0efdb72a-39d9-43ba-9473-375fa6672b05",
        "colab": {
          "base_uri": "https://localhost:8080/",
          "height": 35
        }
      },
      "source": [
        "print np.mean(a) # 2.5"
      ],
      "execution_count": 0,
      "outputs": [
        {
          "output_type": "stream",
          "text": [
            "2.5\n"
          ],
          "name": "stdout"
        }
      ]
    },
    {
      "cell_type": "markdown",
      "metadata": {
        "id": "-tvX2UXg7Ez4",
        "colab_type": "text"
      },
      "source": [
        "Axis 0  (↓)"
      ]
    },
    {
      "cell_type": "code",
      "metadata": {
        "id": "T6fIviIN7Ez5",
        "colab_type": "code",
        "outputId": "a313189f-726d-4fd6-f1b9-56d9ba2fd852",
        "colab": {
          "base_uri": "https://localhost:8080/",
          "height": 35
        }
      },
      "source": [
        "print np.mean(a, axis=0) # [ 2.  3.]"
      ],
      "execution_count": 0,
      "outputs": [
        {
          "output_type": "stream",
          "text": [
            "[2. 3.]\n"
          ],
          "name": "stdout"
        }
      ]
    },
    {
      "cell_type": "markdown",
      "metadata": {
        "id": "ZbkkMwAa7E0E",
        "colab_type": "text"
      },
      "source": [
        "Axis 1  (→)"
      ]
    },
    {
      "cell_type": "code",
      "metadata": {
        "id": "BBUh5HE-7E0E",
        "colab_type": "code",
        "outputId": "3023d6c9-db1f-4801-fc51-68941fc7e934",
        "colab": {
          "base_uri": "https://localhost:8080/",
          "height": 35
        }
      },
      "source": [
        "print np.mean(a, axis=1) # [ 1.5  3.5]"
      ],
      "execution_count": 0,
      "outputs": [
        {
          "output_type": "stream",
          "text": [
            "[1.5 3.5]\n"
          ],
          "name": "stdout"
        }
      ]
    },
    {
      "cell_type": "markdown",
      "metadata": {
        "id": "M02PRB5S7E0I",
        "colab_type": "text"
      },
      "source": [
        "### Broadcast\n",
        "* Calculate arrays with different shapes\n",
        "형상이 다른 배열을 계산하기 위해서 지원하는 기능 "
      ]
    },
    {
      "cell_type": "code",
      "metadata": {
        "id": "XU6PSg5a7E0I",
        "colab_type": "code",
        "outputId": "feae9a77-1610-456b-d794-d6749f92eb0e",
        "colab": {
          "base_uri": "https://localhost:8080/",
          "height": 89
        }
      },
      "source": [
        "A = np.array([[1, 2], [3, 4]])\n",
        "B = np.array([10, 20])\n",
        "print(A)\n",
        "print('--------')\n",
        "print(B)\n"
      ],
      "execution_count": 0,
      "outputs": [
        {
          "output_type": "stream",
          "text": [
            "[[1 2]\n",
            " [3 4]]\n",
            "--------\n",
            "[10 20]\n"
          ],
          "name": "stdout"
        }
      ]
    },
    {
      "cell_type": "markdown",
      "metadata": {
        "id": "HDf6jhh_7E0U",
        "colab_type": "text"
      },
      "source": [
        "Please observe how it is multiplied. (어떻게 곱해지는지 잘 관찰바랍니다.)"
      ]
    },
    {
      "cell_type": "code",
      "metadata": {
        "id": "zo30Ftct7E0V",
        "colab_type": "code",
        "outputId": "c1f231a3-78fa-4da7-9a3e-d612738a1773",
        "colab": {
          "base_uri": "https://localhost:8080/",
          "height": 53
        }
      },
      "source": [
        "print(A*B)"
      ],
      "execution_count": 0,
      "outputs": [
        {
          "output_type": "stream",
          "text": [
            "[[10 40]\n",
            " [30 80]]\n"
          ],
          "name": "stdout"
        }
      ]
    },
    {
      "cell_type": "markdown",
      "metadata": {
        "id": "RnWYW0sK7E0a",
        "colab_type": "text"
      },
      "source": [
        "### Stack"
      ]
    },
    {
      "cell_type": "code",
      "metadata": {
        "id": "CFjrrjB77E0a",
        "colab_type": "code",
        "colab": {}
      },
      "source": [
        "a = np.array([1,2,3,4])\n",
        "b = np.array([5,6,7,8])"
      ],
      "execution_count": 0,
      "outputs": []
    },
    {
      "cell_type": "markdown",
      "metadata": {
        "id": "_dNDU4Mb7E0n",
        "colab_type": "text"
      },
      "source": [
        "* stack vertically (세로로 쌓기)"
      ]
    },
    {
      "cell_type": "code",
      "metadata": {
        "id": "3xuFZ0P57E0o",
        "colab_type": "code",
        "outputId": "17dfb8da-4cea-443e-f660-686ffb5c67b1",
        "colab": {
          "base_uri": "https://localhost:8080/",
          "height": 53
        }
      },
      "source": [
        "c = np.vstack((a,b))\n",
        "print(c)"
      ],
      "execution_count": 0,
      "outputs": [
        {
          "output_type": "stream",
          "text": [
            "[[1 2 3 4]\n",
            " [5 6 7 8]]\n"
          ],
          "name": "stdout"
        }
      ]
    },
    {
      "cell_type": "code",
      "metadata": {
        "id": "jacbZTqa7E00",
        "colab_type": "code",
        "outputId": "797776b9-0fb0-4592-9f35-7cecee9f653a",
        "colab": {
          "base_uri": "https://localhost:8080/",
          "height": 35
        }
      },
      "source": [
        "print(c.shape)"
      ],
      "execution_count": 0,
      "outputs": [
        {
          "output_type": "stream",
          "text": [
            "(2, 4)\n"
          ],
          "name": "stdout"
        }
      ]
    },
    {
      "cell_type": "markdown",
      "metadata": {
        "id": "aALIRp377E04",
        "colab_type": "text"
      },
      "source": [
        "* stack horizontally (가로로 쌓기)"
      ]
    },
    {
      "cell_type": "code",
      "metadata": {
        "id": "fPBvnS4j7E05",
        "colab_type": "code",
        "outputId": "f746ce0b-3272-4570-a751-6ab2200c1256",
        "colab": {
          "base_uri": "https://localhost:8080/",
          "height": 35
        }
      },
      "source": [
        "d = np.hstack((a,b))\n",
        "print(d)"
      ],
      "execution_count": 0,
      "outputs": [
        {
          "output_type": "stream",
          "text": [
            "[1 2 3 4 5 6 7 8]\n"
          ],
          "name": "stdout"
        }
      ]
    },
    {
      "cell_type": "code",
      "metadata": {
        "id": "VdXInqjV7E1F",
        "colab_type": "code",
        "outputId": "e2134c9e-890e-4cd2-c567-d9af94dfd855",
        "colab": {
          "base_uri": "https://localhost:8080/",
          "height": 35
        }
      },
      "source": [
        "print(d.shape)"
      ],
      "execution_count": 0,
      "outputs": [
        {
          "output_type": "stream",
          "text": [
            "(8,)\n"
          ],
          "name": "stdout"
        }
      ]
    }
  ]
}