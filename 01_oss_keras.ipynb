{
  "nbformat": 4,
  "nbformat_minor": 0,
  "metadata": {
    "colab": {
      "name": "01_oss_keras.ipynb",
      "version": "0.3.2",
      "provenance": [],
      "collapsed_sections": [],
      "include_colab_link": true
    },
    "kernelspec": {
      "name": "python3",
      "display_name": "Python 3"
    },
    "accelerator": "GPU"
  },
  "cells": [
    {
      "cell_type": "markdown",
      "metadata": {
        "id": "view-in-github",
        "colab_type": "text"
      },
      "source": [
        "<a href=\"https://colab.research.google.com/github/PowerSH/AI_Course/blob/master/01_oss_keras.ipynb\" target=\"_parent\"><img src=\"https://colab.research.google.com/assets/colab-badge.svg\" alt=\"Open In Colab\"/></a>"
      ]
    },
    {
      "cell_type": "markdown",
      "metadata": {
        "id": "yzPDC28jN3Ub",
        "colab_type": "text"
      },
      "source": [
        "###한림대학교 소프트웨어 융합 대학 특강\n",
        "\n",
        "##누구나 즐기는 딥러닝: 오픈소스 Keras를 활용하여!!!\n",
        "---\n",
        "이정근 교수\n",
        "\n",
        "빅데이터전공주임/오픈소스소프트웨어센터장\n",
        "소프트웨어융합대학\n",
        "\n",
        "jeonggun.lee@hallym.ac.kr\n",
        "2019년 5월\n",
        "\n",
        "---\n",
        "###단순 선형 회귀\n"
      ]
    },
    {
      "cell_type": "markdown",
      "metadata": {
        "id": "x19kceaPZlMN",
        "colab_type": "text"
      },
      "source": [
        "## 단순 선형 회귀\n",
        "\n",
        "**outcome = data * 2 + 1**에 대한 식의 패턴을 학습방식을 통하여 획득하는 방법을 Keras를 활용하여 공부해보도록 합시다!\n",
        "\n",
        "입력데이터:\n",
        "data = [1, 2, 3, 4, 5, 6, 7, 8, 9, 10]\n",
        "\n",
        "출력데이터:\n",
        "outcome = [3, 5, 7, 9, 11, 13, 15, 17, 19, 21]\n",
        "\n",
        "위와 같이 주어진 데이터를 이용하여 입력과 출력에 대한 패턴(알고리즘)을 찾아낼 수 있을까요 ?"
      ]
    },
    {
      "cell_type": "code",
      "metadata": {
        "id": "_N2AKFIiNohu",
        "colab_type": "code",
        "outputId": "f1cc1f0a-02fc-4f4a-d0b4-c805408aa23a",
        "colab": {
          "base_uri": "https://localhost:8080/",
          "height": 53
        }
      },
      "source": [
        "import numpy as np\n",
        "\n",
        "data = np.array([1, 2, 3, 4, 5, 6, 7, 8, 9, 10])\n",
        "outcome = np.array([3, 5, 7, 9, 11, 13, 15, 17, 19, 21])\n",
        "print(data)\n",
        "print(outcome)"
      ],
      "execution_count": 0,
      "outputs": [
        {
          "output_type": "stream",
          "text": [
            "[ 1  2  3  4  5  6  7  8  9 10]\n",
            "[ 3  5  7  9 11 13 15 17 19 21]\n"
          ],
          "name": "stdout"
        }
      ]
    },
    {
      "cell_type": "markdown",
      "metadata": {
        "id": "H6ReFgRlCnsp",
        "colab_type": "text"
      },
      "source": [
        "입력데이터와 출력 outcome과의 관계를 그래프를 통해서 살펴볼까요 ?\n",
        "\n",
        "그래프 사용을 위해서 matplotlib를 활용하여 봅시다!"
      ]
    },
    {
      "cell_type": "code",
      "metadata": {
        "id": "X6lVnn7qZgZf",
        "colab_type": "code",
        "colab": {}
      },
      "source": [
        "import matplotlib.pylab as plt\n",
        "plt.plot(data, outcome, 'rs--')\n",
        "plt.show()"
      ],
      "execution_count": 0,
      "outputs": []
    },
    {
      "cell_type": "markdown",
      "metadata": {
        "id": "djyKWgmRCzvR",
        "colab_type": "text"
      },
      "source": [
        "자, 이제 학습을 위해서 모델을 만들어 봅시다!\n",
        "\n",
        "가장 쉽게 모델을 만드는 방법은 **Sequential**을 사용하는 것입니다.\n",
        "\n",
        "차곡차곡, 입력부터 층을 만들어 나가는 방법이지요!\n",
        "\n",
        "층의 속성도 여러가지가 있습니다만, 여기서는 가장 간단한 **Dense** type만 사용하겠습니다.\n",
        "\n",
        "첫 모델에는 활성화 함수 (activation function)은 사용하지 않겠습니다. 이유를 아시나요 ? ^^\n"
      ]
    },
    {
      "cell_type": "code",
      "metadata": {
        "id": "O6Q8DFp7Pu7M",
        "colab_type": "code",
        "colab": {}
      },
      "source": [
        "from keras.models import Sequential\n",
        "from keras.layers import Dense\n",
        "\n",
        "model = Sequential()\n",
        "model.add(Dense(1, input_dim=1))"
      ],
      "execution_count": 0,
      "outputs": []
    },
    {
      "cell_type": "markdown",
      "metadata": {
        "id": "nsWM2GcZD2F5",
        "colab_type": "text"
      },
      "source": [
        "모델이 만들어 졌으면, 학습 및 최적화 방법에 대한 옵션을 기술하고, 모델을 Compile하겠습니다!"
      ]
    },
    {
      "cell_type": "code",
      "metadata": {
        "id": "ECujJ4BJQHTz",
        "colab_type": "code",
        "colab": {}
      },
      "source": [
        "model.compile(loss='mean_squared_error', optimizer='adam')"
      ],
      "execution_count": 0,
      "outputs": []
    },
    {
      "cell_type": "markdown",
      "metadata": {
        "id": "A565ACc5EAtR",
        "colab_type": "text"
      },
      "source": [
        "자, 이제 학습을 진행해볼까요 ? 첫 학습을 위해서 **epochs**는 10번, **batch_size**는 1로 설정하여 진행하겠습니다."
      ]
    },
    {
      "cell_type": "code",
      "metadata": {
        "id": "FF6qIa0bQL6b",
        "colab_type": "code",
        "colab": {}
      },
      "source": [
        "model.fit(data, outcome, epochs=10, batch_size=1)"
      ],
      "execution_count": 0,
      "outputs": []
    },
    {
      "cell_type": "markdown",
      "metadata": {
        "id": "NrykycJCEcS5",
        "colab_type": "text"
      },
      "source": [
        "위의 학습 과정을 보면, epoch이 진행되기는 하지만 loss에 큰 변화가 없어보이네요. \n",
        "\n",
        "여러분, 어떻게 하면 좋을까요 ?\n",
        "\n",
        "일단 학습된 모델을 가지고 새로운 data (20)에 대한 outcome을 예측해보도록 하겠습니다."
      ]
    },
    {
      "cell_type": "code",
      "metadata": {
        "id": "zdOx5lZuQfBE",
        "colab_type": "code",
        "outputId": "b2b185d6-ef6b-4fbf-9bec-c7372d56eaef",
        "colab": {
          "base_uri": "https://localhost:8080/",
          "height": 35
        }
      },
      "source": [
        "model.predict([20])"
      ],
      "execution_count": 0,
      "outputs": [
        {
          "output_type": "execute_result",
          "data": {
            "text/plain": [
              "array([[8.597327]], dtype=float32)"
            ]
          },
          "metadata": {
            "tags": []
          },
          "execution_count": 26
        }
      ]
    },
    {
      "cell_type": "markdown",
      "metadata": {
        "id": "9oEwdQTsEyUw",
        "colab_type": "text"
      },
      "source": [
        "답을 41로 예상을 하였는데, 생뚱 맞게 -6 정도가 나와 버렸네요.\n",
        "\n",
        "학습을 제대로 하지 못한 경우겠지요 !\n",
        "\n",
        "새로운 **epochs**과 **batch_size**로 학습을 다시 해보도록 하겠습니다. 여러분도 다양한 값들을 시도해보세요!\n",
        "\n",
        "가장 적은 epoch으로 가장 적은 loss를 만들어 내는 분께 초코릿을 드리겠습니다!"
      ]
    },
    {
      "cell_type": "code",
      "metadata": {
        "id": "3G21DPjaCjrg",
        "colab_type": "code",
        "colab": {}
      },
      "source": [
        "model.fit(data, outcome, epochs=1000, batch_size=1)"
      ],
      "execution_count": 0,
      "outputs": []
    },
    {
      "cell_type": "markdown",
      "metadata": {
        "id": "ea51HWv5JBuq",
        "colab_type": "text"
      },
      "source": [
        "Epoch이 진행되면서 지속적으로 loss도 떨어져서 낮은 loss를 갖도록 학습을 하였습니다. \n",
        "\n",
        "그럼 얼마나 잘 예측하는지 새로운 데이터를 가지고 예측을 해볼까요 ?"
      ]
    },
    {
      "cell_type": "code",
      "metadata": {
        "id": "cC-2_dN5JPGC",
        "colab_type": "code",
        "outputId": "9e4c9bb4-5eb3-4944-d5aa-f7939e090254",
        "colab": {
          "base_uri": "https://localhost:8080/",
          "height": 35
        }
      },
      "source": [
        "model.predict([20])"
      ],
      "execution_count": 0,
      "outputs": [
        {
          "output_type": "execute_result",
          "data": {
            "text/plain": [
              "array([[40.92874]], dtype=float32)"
            ]
          },
          "metadata": {
            "tags": []
          },
          "execution_count": 28
        }
      ]
    },
    {
      "cell_type": "markdown",
      "metadata": {
        "id": "jTX2e84eJatK",
        "colab_type": "text"
      },
      "source": [
        "아주 잘 예측하고 있음을 알 수 있습니다!"
      ]
    },
    {
      "cell_type": "markdown",
      "metadata": {
        "id": "A74h3bahPVmb",
        "colab_type": "text"
      },
      "source": [
        "\n",
        "\n",
        "---\n",
        "\n",
        "\n",
        "마지막으로 **가중치 (w)**와 **바이어스(b)**가 어떻게 찾아졌는지 살펴보도록 하겠습니다.\n",
        "\n",
        "model.layers[n].get_weights()[0] : n 번째 layer의 가중차 값을 반환합니다.\n",
        "\n",
        "model.layers[n].get_weights()[1]: n번째 layer의 바이어스 값을 반환합니다."
      ]
    },
    {
      "cell_type": "code",
      "metadata": {
        "id": "d0j0osfGP9bc",
        "colab_type": "code",
        "outputId": "d1d98541-2c7f-4fd6-af0a-288e5bfa8bda",
        "colab": {
          "base_uri": "https://localhost:8080/",
          "height": 53
        }
      },
      "source": [
        "layer1_weight = model.layers[0].get_weights()[0]\n",
        "layer1_bias = model.layers[0].get_weights()[1]\n",
        "\n",
        "print(\"layer1_weight : \", layer1_weight)\n",
        "print(\"layer1_bias : \", layer1_bias)"
      ],
      "execution_count": 0,
      "outputs": [
        {
          "output_type": "stream",
          "text": [
            "layer1_weight :  [[1.9946975]]\n",
            "layer1_bias :  [1.0347942]\n"
          ],
          "name": "stdout"
        }
      ]
    },
    {
      "cell_type": "markdown",
      "metadata": {
        "id": "0cogLhNLQTiE",
        "colab_type": "text"
      },
      "source": [
        "우리의 예상은 layer1_weight는 2, layer1_bias는 1이기를 기대하였지만, 조금 다른 값이 나온 것을 알 수 있습니다.\n",
        "\n",
        "하지만, 꽤 잘 찾은 것 같지 않나요 ? ^^"
      ]
    },
    {
      "cell_type": "code",
      "metadata": {
        "id": "UEp4GP-6QKjt",
        "colab_type": "code",
        "colab": {}
      },
      "source": [
        ""
      ],
      "execution_count": 0,
      "outputs": []
    }
  ]
}